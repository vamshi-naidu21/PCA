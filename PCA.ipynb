{
  "nbformat": 4,
  "nbformat_minor": 0,
  "metadata": {
    "colab": {
      "name": "PCA.ipynb",
      "provenance": []
    },
    "kernelspec": {
      "name": "python3",
      "display_name": "Python 3"
    }
  },
  "cells": [
    {
      "cell_type": "code",
      "metadata": {
        "colab": {
          "resources": {
            "http://localhost:8080/nbextensions/google.colab/files.js": {
              "data": "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",
              "ok": true,
              "headers": [
                [
                  "content-type",
                  "application/javascript"
                ]
              ],
              "status": 200,
              "status_text": ""
            }
          },
          "base_uri": "https://localhost:8080/",
          "height": 72
        },
        "id": "RCP0u3oXnGSu",
        "outputId": "f951214a-6db1-4de4-b30e-181f9a7e1f0c"
      },
      "source": [
        "from google.colab import files\n",
        "uploaded  = files.upload()"
      ],
      "execution_count": null,
      "outputs": [
        {
          "output_type": "display_data",
          "data": {
            "text/html": [
              "\n",
              "     <input type=\"file\" id=\"files-10ed07b5-2537-449a-b96c-06f36535263d\" name=\"files[]\" multiple disabled\n",
              "        style=\"border:none\" />\n",
              "     <output id=\"result-10ed07b5-2537-449a-b96c-06f36535263d\">\n",
              "      Upload widget is only available when the cell has been executed in the\n",
              "      current browser session. Please rerun this cell to enable.\n",
              "      </output>\n",
              "      <script src=\"/nbextensions/google.colab/files.js\"></script> "
            ],
            "text/plain": [
              "<IPython.core.display.HTML object>"
            ]
          },
          "metadata": {
            "tags": []
          }
        },
        {
          "output_type": "stream",
          "text": [
            "Saving BreastCancer.csv to BreastCancer.csv\n"
          ],
          "name": "stdout"
        }
      ]
    },
    {
      "cell_type": "code",
      "metadata": {
        "id": "WI6x6R9Hz5Bg"
      },
      "source": [
        "import pandas as pd\n",
        "import numpy as np\n",
        "import seaborn as sns\n",
        "import matplotlib.pyplot as plt"
      ],
      "execution_count": null,
      "outputs": []
    },
    {
      "cell_type": "code",
      "metadata": {
        "id": "86HraHRS1y4V"
      },
      "source": [
        "df = pd.read_csv('BreastCancer.csv')"
      ],
      "execution_count": null,
      "outputs": []
    },
    {
      "cell_type": "code",
      "metadata": {
        "colab": {
          "base_uri": "https://localhost:8080/",
          "height": 241
        },
        "id": "9pqSW-Rw2FYB",
        "outputId": "aab37c89-f4bf-4815-dd0e-b7328294eb24"
      },
      "source": [
        "df.head()"
      ],
      "execution_count": null,
      "outputs": [
        {
          "output_type": "execute_result",
          "data": {
            "text/html": [
              "<div>\n",
              "<style scoped>\n",
              "    .dataframe tbody tr th:only-of-type {\n",
              "        vertical-align: middle;\n",
              "    }\n",
              "\n",
              "    .dataframe tbody tr th {\n",
              "        vertical-align: top;\n",
              "    }\n",
              "\n",
              "    .dataframe thead th {\n",
              "        text-align: right;\n",
              "    }\n",
              "</style>\n",
              "<table border=\"1\" class=\"dataframe\">\n",
              "  <thead>\n",
              "    <tr style=\"text-align: right;\">\n",
              "      <th></th>\n",
              "      <th>id</th>\n",
              "      <th>diagnosis</th>\n",
              "      <th>radius_mean</th>\n",
              "      <th>texture_mean</th>\n",
              "      <th>perimeter_mean</th>\n",
              "      <th>area_mean</th>\n",
              "      <th>smoothness_mean</th>\n",
              "      <th>compactness_mean</th>\n",
              "      <th>concavity_mean</th>\n",
              "      <th>concave points_mean</th>\n",
              "      <th>symmetry_mean</th>\n",
              "      <th>fractal_dimension_mean</th>\n",
              "      <th>radius_se</th>\n",
              "      <th>texture_se</th>\n",
              "      <th>perimeter_se</th>\n",
              "      <th>area_se</th>\n",
              "      <th>smoothness_se</th>\n",
              "      <th>compactness_se</th>\n",
              "      <th>concavity_se</th>\n",
              "      <th>concave points_se</th>\n",
              "      <th>symmetry_se</th>\n",
              "      <th>fractal_dimension_se</th>\n",
              "      <th>radius_worst</th>\n",
              "      <th>texture_worst</th>\n",
              "      <th>perimeter_worst</th>\n",
              "      <th>area_worst</th>\n",
              "      <th>smoothness_worst</th>\n",
              "      <th>compactness_worst</th>\n",
              "      <th>concavity_worst</th>\n",
              "      <th>concave points_worst</th>\n",
              "      <th>symmetry_worst</th>\n",
              "      <th>fractal_dimension_worst</th>\n",
              "      <th>Unnamed: 32</th>\n",
              "    </tr>\n",
              "  </thead>\n",
              "  <tbody>\n",
              "    <tr>\n",
              "      <th>0</th>\n",
              "      <td>842302</td>\n",
              "      <td>M</td>\n",
              "      <td>17.99</td>\n",
              "      <td>10.38</td>\n",
              "      <td>122.80</td>\n",
              "      <td>1001.0</td>\n",
              "      <td>0.11840</td>\n",
              "      <td>0.27760</td>\n",
              "      <td>0.3001</td>\n",
              "      <td>0.14710</td>\n",
              "      <td>0.2419</td>\n",
              "      <td>0.07871</td>\n",
              "      <td>1.0950</td>\n",
              "      <td>0.9053</td>\n",
              "      <td>8.589</td>\n",
              "      <td>153.40</td>\n",
              "      <td>0.006399</td>\n",
              "      <td>0.04904</td>\n",
              "      <td>0.05373</td>\n",
              "      <td>0.01587</td>\n",
              "      <td>0.03003</td>\n",
              "      <td>0.006193</td>\n",
              "      <td>25.38</td>\n",
              "      <td>17.33</td>\n",
              "      <td>184.60</td>\n",
              "      <td>2019.0</td>\n",
              "      <td>0.1622</td>\n",
              "      <td>0.6656</td>\n",
              "      <td>0.7119</td>\n",
              "      <td>0.2654</td>\n",
              "      <td>0.4601</td>\n",
              "      <td>0.11890</td>\n",
              "      <td>NaN</td>\n",
              "    </tr>\n",
              "    <tr>\n",
              "      <th>1</th>\n",
              "      <td>842517</td>\n",
              "      <td>M</td>\n",
              "      <td>20.57</td>\n",
              "      <td>17.77</td>\n",
              "      <td>132.90</td>\n",
              "      <td>1326.0</td>\n",
              "      <td>0.08474</td>\n",
              "      <td>0.07864</td>\n",
              "      <td>0.0869</td>\n",
              "      <td>0.07017</td>\n",
              "      <td>0.1812</td>\n",
              "      <td>0.05667</td>\n",
              "      <td>0.5435</td>\n",
              "      <td>0.7339</td>\n",
              "      <td>3.398</td>\n",
              "      <td>74.08</td>\n",
              "      <td>0.005225</td>\n",
              "      <td>0.01308</td>\n",
              "      <td>0.01860</td>\n",
              "      <td>0.01340</td>\n",
              "      <td>0.01389</td>\n",
              "      <td>0.003532</td>\n",
              "      <td>24.99</td>\n",
              "      <td>23.41</td>\n",
              "      <td>158.80</td>\n",
              "      <td>1956.0</td>\n",
              "      <td>0.1238</td>\n",
              "      <td>0.1866</td>\n",
              "      <td>0.2416</td>\n",
              "      <td>0.1860</td>\n",
              "      <td>0.2750</td>\n",
              "      <td>0.08902</td>\n",
              "      <td>NaN</td>\n",
              "    </tr>\n",
              "    <tr>\n",
              "      <th>2</th>\n",
              "      <td>84300903</td>\n",
              "      <td>M</td>\n",
              "      <td>19.69</td>\n",
              "      <td>21.25</td>\n",
              "      <td>130.00</td>\n",
              "      <td>1203.0</td>\n",
              "      <td>0.10960</td>\n",
              "      <td>0.15990</td>\n",
              "      <td>0.1974</td>\n",
              "      <td>0.12790</td>\n",
              "      <td>0.2069</td>\n",
              "      <td>0.05999</td>\n",
              "      <td>0.7456</td>\n",
              "      <td>0.7869</td>\n",
              "      <td>4.585</td>\n",
              "      <td>94.03</td>\n",
              "      <td>0.006150</td>\n",
              "      <td>0.04006</td>\n",
              "      <td>0.03832</td>\n",
              "      <td>0.02058</td>\n",
              "      <td>0.02250</td>\n",
              "      <td>0.004571</td>\n",
              "      <td>23.57</td>\n",
              "      <td>25.53</td>\n",
              "      <td>152.50</td>\n",
              "      <td>1709.0</td>\n",
              "      <td>0.1444</td>\n",
              "      <td>0.4245</td>\n",
              "      <td>0.4504</td>\n",
              "      <td>0.2430</td>\n",
              "      <td>0.3613</td>\n",
              "      <td>0.08758</td>\n",
              "      <td>NaN</td>\n",
              "    </tr>\n",
              "    <tr>\n",
              "      <th>3</th>\n",
              "      <td>84348301</td>\n",
              "      <td>M</td>\n",
              "      <td>11.42</td>\n",
              "      <td>20.38</td>\n",
              "      <td>77.58</td>\n",
              "      <td>386.1</td>\n",
              "      <td>0.14250</td>\n",
              "      <td>0.28390</td>\n",
              "      <td>0.2414</td>\n",
              "      <td>0.10520</td>\n",
              "      <td>0.2597</td>\n",
              "      <td>0.09744</td>\n",
              "      <td>0.4956</td>\n",
              "      <td>1.1560</td>\n",
              "      <td>3.445</td>\n",
              "      <td>27.23</td>\n",
              "      <td>0.009110</td>\n",
              "      <td>0.07458</td>\n",
              "      <td>0.05661</td>\n",
              "      <td>0.01867</td>\n",
              "      <td>0.05963</td>\n",
              "      <td>0.009208</td>\n",
              "      <td>14.91</td>\n",
              "      <td>26.50</td>\n",
              "      <td>98.87</td>\n",
              "      <td>567.7</td>\n",
              "      <td>0.2098</td>\n",
              "      <td>0.8663</td>\n",
              "      <td>0.6869</td>\n",
              "      <td>0.2575</td>\n",
              "      <td>0.6638</td>\n",
              "      <td>0.17300</td>\n",
              "      <td>NaN</td>\n",
              "    </tr>\n",
              "    <tr>\n",
              "      <th>4</th>\n",
              "      <td>84358402</td>\n",
              "      <td>M</td>\n",
              "      <td>20.29</td>\n",
              "      <td>14.34</td>\n",
              "      <td>135.10</td>\n",
              "      <td>1297.0</td>\n",
              "      <td>0.10030</td>\n",
              "      <td>0.13280</td>\n",
              "      <td>0.1980</td>\n",
              "      <td>0.10430</td>\n",
              "      <td>0.1809</td>\n",
              "      <td>0.05883</td>\n",
              "      <td>0.7572</td>\n",
              "      <td>0.7813</td>\n",
              "      <td>5.438</td>\n",
              "      <td>94.44</td>\n",
              "      <td>0.011490</td>\n",
              "      <td>0.02461</td>\n",
              "      <td>0.05688</td>\n",
              "      <td>0.01885</td>\n",
              "      <td>0.01756</td>\n",
              "      <td>0.005115</td>\n",
              "      <td>22.54</td>\n",
              "      <td>16.67</td>\n",
              "      <td>152.20</td>\n",
              "      <td>1575.0</td>\n",
              "      <td>0.1374</td>\n",
              "      <td>0.2050</td>\n",
              "      <td>0.4000</td>\n",
              "      <td>0.1625</td>\n",
              "      <td>0.2364</td>\n",
              "      <td>0.07678</td>\n",
              "      <td>NaN</td>\n",
              "    </tr>\n",
              "  </tbody>\n",
              "</table>\n",
              "</div>"
            ],
            "text/plain": [
              "         id diagnosis  ...  fractal_dimension_worst  Unnamed: 32\n",
              "0    842302         M  ...                  0.11890          NaN\n",
              "1    842517         M  ...                  0.08902          NaN\n",
              "2  84300903         M  ...                  0.08758          NaN\n",
              "3  84348301         M  ...                  0.17300          NaN\n",
              "4  84358402         M  ...                  0.07678          NaN\n",
              "\n",
              "[5 rows x 33 columns]"
            ]
          },
          "metadata": {
            "tags": []
          },
          "execution_count": 5
        }
      ]
    },
    {
      "cell_type": "code",
      "metadata": {
        "colab": {
          "base_uri": "https://localhost:8080/"
        },
        "id": "VuyiDpv72IWa",
        "outputId": "0f4224c9-77da-4c07-8b90-d3ab8b38a54d"
      },
      "source": [
        "df.shape"
      ],
      "execution_count": null,
      "outputs": [
        {
          "output_type": "execute_result",
          "data": {
            "text/plain": [
              "(569, 33)"
            ]
          },
          "metadata": {
            "tags": []
          },
          "execution_count": 6
        }
      ]
    },
    {
      "cell_type": "code",
      "metadata": {
        "id": "7nWitALk2RWc"
      },
      "source": [
        "df.drop(['Unnamed: 32','id'],axis=1,inplace=True)"
      ],
      "execution_count": null,
      "outputs": []
    },
    {
      "cell_type": "code",
      "metadata": {
        "colab": {
          "base_uri": "https://localhost:8080/"
        },
        "id": "CFBVKclb2dGR",
        "outputId": "19cff4e3-d96f-44e8-86f6-7233cef59eec"
      },
      "source": [
        "df.shape"
      ],
      "execution_count": null,
      "outputs": [
        {
          "output_type": "execute_result",
          "data": {
            "text/plain": [
              "(569, 31)"
            ]
          },
          "metadata": {
            "tags": []
          },
          "execution_count": 9
        }
      ]
    },
    {
      "cell_type": "code",
      "metadata": {
        "colab": {
          "base_uri": "https://localhost:8080/"
        },
        "id": "BnECS2d82o7H",
        "outputId": "4c679889-ab69-4263-d6bc-819501d8e89c"
      },
      "source": [
        "df.isnull().sum()"
      ],
      "execution_count": null,
      "outputs": [
        {
          "output_type": "execute_result",
          "data": {
            "text/plain": [
              "diagnosis                  0\n",
              "radius_mean                0\n",
              "texture_mean               0\n",
              "perimeter_mean             0\n",
              "area_mean                  0\n",
              "smoothness_mean            0\n",
              "compactness_mean           0\n",
              "concavity_mean             0\n",
              "concave points_mean        0\n",
              "symmetry_mean              0\n",
              "fractal_dimension_mean     0\n",
              "radius_se                  0\n",
              "texture_se                 0\n",
              "perimeter_se               0\n",
              "area_se                    0\n",
              "smoothness_se              0\n",
              "compactness_se             0\n",
              "concavity_se               0\n",
              "concave points_se          0\n",
              "symmetry_se                0\n",
              "fractal_dimension_se       0\n",
              "radius_worst               0\n",
              "texture_worst              0\n",
              "perimeter_worst            0\n",
              "area_worst                 0\n",
              "smoothness_worst           0\n",
              "compactness_worst          0\n",
              "concavity_worst            0\n",
              "concave points_worst       0\n",
              "symmetry_worst             0\n",
              "fractal_dimension_worst    0\n",
              "dtype: int64"
            ]
          },
          "metadata": {
            "tags": []
          },
          "execution_count": 10
        }
      ]
    },
    {
      "cell_type": "code",
      "metadata": {
        "colab": {
          "base_uri": "https://localhost:8080/"
        },
        "id": "2mQPuMwB2tSP",
        "outputId": "ac27b703-082b-40de-d80f-12b853a06987"
      },
      "source": [
        "df.dtypes"
      ],
      "execution_count": null,
      "outputs": [
        {
          "output_type": "execute_result",
          "data": {
            "text/plain": [
              "diagnosis                   object\n",
              "radius_mean                float64\n",
              "texture_mean               float64\n",
              "perimeter_mean             float64\n",
              "area_mean                  float64\n",
              "smoothness_mean            float64\n",
              "compactness_mean           float64\n",
              "concavity_mean             float64\n",
              "concave points_mean        float64\n",
              "symmetry_mean              float64\n",
              "fractal_dimension_mean     float64\n",
              "radius_se                  float64\n",
              "texture_se                 float64\n",
              "perimeter_se               float64\n",
              "area_se                    float64\n",
              "smoothness_se              float64\n",
              "compactness_se             float64\n",
              "concavity_se               float64\n",
              "concave points_se          float64\n",
              "symmetry_se                float64\n",
              "fractal_dimension_se       float64\n",
              "radius_worst               float64\n",
              "texture_worst              float64\n",
              "perimeter_worst            float64\n",
              "area_worst                 float64\n",
              "smoothness_worst           float64\n",
              "compactness_worst          float64\n",
              "concavity_worst            float64\n",
              "concave points_worst       float64\n",
              "symmetry_worst             float64\n",
              "fractal_dimension_worst    float64\n",
              "dtype: object"
            ]
          },
          "metadata": {
            "tags": []
          },
          "execution_count": 13
        }
      ]
    },
    {
      "cell_type": "code",
      "metadata": {
        "id": "TCo-Tw6F2wIj"
      },
      "source": [
        "X = df.iloc[:,1:]"
      ],
      "execution_count": null,
      "outputs": []
    },
    {
      "cell_type": "code",
      "metadata": {
        "colab": {
          "base_uri": "https://localhost:8080/",
          "height": 456
        },
        "id": "2b_sqkFw30-D",
        "outputId": "b4a5cedd-f7da-4967-a548-f1aba78e2c00"
      },
      "source": [
        "X"
      ],
      "execution_count": null,
      "outputs": [
        {
          "output_type": "execute_result",
          "data": {
            "text/html": [
              "<div>\n",
              "<style scoped>\n",
              "    .dataframe tbody tr th:only-of-type {\n",
              "        vertical-align: middle;\n",
              "    }\n",
              "\n",
              "    .dataframe tbody tr th {\n",
              "        vertical-align: top;\n",
              "    }\n",
              "\n",
              "    .dataframe thead th {\n",
              "        text-align: right;\n",
              "    }\n",
              "</style>\n",
              "<table border=\"1\" class=\"dataframe\">\n",
              "  <thead>\n",
              "    <tr style=\"text-align: right;\">\n",
              "      <th></th>\n",
              "      <th>radius_mean</th>\n",
              "      <th>texture_mean</th>\n",
              "      <th>perimeter_mean</th>\n",
              "      <th>area_mean</th>\n",
              "      <th>smoothness_mean</th>\n",
              "      <th>compactness_mean</th>\n",
              "      <th>concavity_mean</th>\n",
              "      <th>concave points_mean</th>\n",
              "      <th>symmetry_mean</th>\n",
              "      <th>fractal_dimension_mean</th>\n",
              "      <th>radius_se</th>\n",
              "      <th>texture_se</th>\n",
              "      <th>perimeter_se</th>\n",
              "      <th>area_se</th>\n",
              "      <th>smoothness_se</th>\n",
              "      <th>compactness_se</th>\n",
              "      <th>concavity_se</th>\n",
              "      <th>concave points_se</th>\n",
              "      <th>symmetry_se</th>\n",
              "      <th>fractal_dimension_se</th>\n",
              "      <th>radius_worst</th>\n",
              "      <th>texture_worst</th>\n",
              "      <th>perimeter_worst</th>\n",
              "      <th>area_worst</th>\n",
              "      <th>smoothness_worst</th>\n",
              "      <th>compactness_worst</th>\n",
              "      <th>concavity_worst</th>\n",
              "      <th>concave points_worst</th>\n",
              "      <th>symmetry_worst</th>\n",
              "      <th>fractal_dimension_worst</th>\n",
              "    </tr>\n",
              "  </thead>\n",
              "  <tbody>\n",
              "    <tr>\n",
              "      <th>0</th>\n",
              "      <td>17.99</td>\n",
              "      <td>10.38</td>\n",
              "      <td>122.80</td>\n",
              "      <td>1001.0</td>\n",
              "      <td>0.11840</td>\n",
              "      <td>0.27760</td>\n",
              "      <td>0.30010</td>\n",
              "      <td>0.14710</td>\n",
              "      <td>0.2419</td>\n",
              "      <td>0.07871</td>\n",
              "      <td>1.0950</td>\n",
              "      <td>0.9053</td>\n",
              "      <td>8.589</td>\n",
              "      <td>153.40</td>\n",
              "      <td>0.006399</td>\n",
              "      <td>0.04904</td>\n",
              "      <td>0.05373</td>\n",
              "      <td>0.01587</td>\n",
              "      <td>0.03003</td>\n",
              "      <td>0.006193</td>\n",
              "      <td>25.380</td>\n",
              "      <td>17.33</td>\n",
              "      <td>184.60</td>\n",
              "      <td>2019.0</td>\n",
              "      <td>0.16220</td>\n",
              "      <td>0.66560</td>\n",
              "      <td>0.7119</td>\n",
              "      <td>0.2654</td>\n",
              "      <td>0.4601</td>\n",
              "      <td>0.11890</td>\n",
              "    </tr>\n",
              "    <tr>\n",
              "      <th>1</th>\n",
              "      <td>20.57</td>\n",
              "      <td>17.77</td>\n",
              "      <td>132.90</td>\n",
              "      <td>1326.0</td>\n",
              "      <td>0.08474</td>\n",
              "      <td>0.07864</td>\n",
              "      <td>0.08690</td>\n",
              "      <td>0.07017</td>\n",
              "      <td>0.1812</td>\n",
              "      <td>0.05667</td>\n",
              "      <td>0.5435</td>\n",
              "      <td>0.7339</td>\n",
              "      <td>3.398</td>\n",
              "      <td>74.08</td>\n",
              "      <td>0.005225</td>\n",
              "      <td>0.01308</td>\n",
              "      <td>0.01860</td>\n",
              "      <td>0.01340</td>\n",
              "      <td>0.01389</td>\n",
              "      <td>0.003532</td>\n",
              "      <td>24.990</td>\n",
              "      <td>23.41</td>\n",
              "      <td>158.80</td>\n",
              "      <td>1956.0</td>\n",
              "      <td>0.12380</td>\n",
              "      <td>0.18660</td>\n",
              "      <td>0.2416</td>\n",
              "      <td>0.1860</td>\n",
              "      <td>0.2750</td>\n",
              "      <td>0.08902</td>\n",
              "    </tr>\n",
              "    <tr>\n",
              "      <th>2</th>\n",
              "      <td>19.69</td>\n",
              "      <td>21.25</td>\n",
              "      <td>130.00</td>\n",
              "      <td>1203.0</td>\n",
              "      <td>0.10960</td>\n",
              "      <td>0.15990</td>\n",
              "      <td>0.19740</td>\n",
              "      <td>0.12790</td>\n",
              "      <td>0.2069</td>\n",
              "      <td>0.05999</td>\n",
              "      <td>0.7456</td>\n",
              "      <td>0.7869</td>\n",
              "      <td>4.585</td>\n",
              "      <td>94.03</td>\n",
              "      <td>0.006150</td>\n",
              "      <td>0.04006</td>\n",
              "      <td>0.03832</td>\n",
              "      <td>0.02058</td>\n",
              "      <td>0.02250</td>\n",
              "      <td>0.004571</td>\n",
              "      <td>23.570</td>\n",
              "      <td>25.53</td>\n",
              "      <td>152.50</td>\n",
              "      <td>1709.0</td>\n",
              "      <td>0.14440</td>\n",
              "      <td>0.42450</td>\n",
              "      <td>0.4504</td>\n",
              "      <td>0.2430</td>\n",
              "      <td>0.3613</td>\n",
              "      <td>0.08758</td>\n",
              "    </tr>\n",
              "    <tr>\n",
              "      <th>3</th>\n",
              "      <td>11.42</td>\n",
              "      <td>20.38</td>\n",
              "      <td>77.58</td>\n",
              "      <td>386.1</td>\n",
              "      <td>0.14250</td>\n",
              "      <td>0.28390</td>\n",
              "      <td>0.24140</td>\n",
              "      <td>0.10520</td>\n",
              "      <td>0.2597</td>\n",
              "      <td>0.09744</td>\n",
              "      <td>0.4956</td>\n",
              "      <td>1.1560</td>\n",
              "      <td>3.445</td>\n",
              "      <td>27.23</td>\n",
              "      <td>0.009110</td>\n",
              "      <td>0.07458</td>\n",
              "      <td>0.05661</td>\n",
              "      <td>0.01867</td>\n",
              "      <td>0.05963</td>\n",
              "      <td>0.009208</td>\n",
              "      <td>14.910</td>\n",
              "      <td>26.50</td>\n",
              "      <td>98.87</td>\n",
              "      <td>567.7</td>\n",
              "      <td>0.20980</td>\n",
              "      <td>0.86630</td>\n",
              "      <td>0.6869</td>\n",
              "      <td>0.2575</td>\n",
              "      <td>0.6638</td>\n",
              "      <td>0.17300</td>\n",
              "    </tr>\n",
              "    <tr>\n",
              "      <th>4</th>\n",
              "      <td>20.29</td>\n",
              "      <td>14.34</td>\n",
              "      <td>135.10</td>\n",
              "      <td>1297.0</td>\n",
              "      <td>0.10030</td>\n",
              "      <td>0.13280</td>\n",
              "      <td>0.19800</td>\n",
              "      <td>0.10430</td>\n",
              "      <td>0.1809</td>\n",
              "      <td>0.05883</td>\n",
              "      <td>0.7572</td>\n",
              "      <td>0.7813</td>\n",
              "      <td>5.438</td>\n",
              "      <td>94.44</td>\n",
              "      <td>0.011490</td>\n",
              "      <td>0.02461</td>\n",
              "      <td>0.05688</td>\n",
              "      <td>0.01885</td>\n",
              "      <td>0.01756</td>\n",
              "      <td>0.005115</td>\n",
              "      <td>22.540</td>\n",
              "      <td>16.67</td>\n",
              "      <td>152.20</td>\n",
              "      <td>1575.0</td>\n",
              "      <td>0.13740</td>\n",
              "      <td>0.20500</td>\n",
              "      <td>0.4000</td>\n",
              "      <td>0.1625</td>\n",
              "      <td>0.2364</td>\n",
              "      <td>0.07678</td>\n",
              "    </tr>\n",
              "    <tr>\n",
              "      <th>...</th>\n",
              "      <td>...</td>\n",
              "      <td>...</td>\n",
              "      <td>...</td>\n",
              "      <td>...</td>\n",
              "      <td>...</td>\n",
              "      <td>...</td>\n",
              "      <td>...</td>\n",
              "      <td>...</td>\n",
              "      <td>...</td>\n",
              "      <td>...</td>\n",
              "      <td>...</td>\n",
              "      <td>...</td>\n",
              "      <td>...</td>\n",
              "      <td>...</td>\n",
              "      <td>...</td>\n",
              "      <td>...</td>\n",
              "      <td>...</td>\n",
              "      <td>...</td>\n",
              "      <td>...</td>\n",
              "      <td>...</td>\n",
              "      <td>...</td>\n",
              "      <td>...</td>\n",
              "      <td>...</td>\n",
              "      <td>...</td>\n",
              "      <td>...</td>\n",
              "      <td>...</td>\n",
              "      <td>...</td>\n",
              "      <td>...</td>\n",
              "      <td>...</td>\n",
              "      <td>...</td>\n",
              "    </tr>\n",
              "    <tr>\n",
              "      <th>564</th>\n",
              "      <td>21.56</td>\n",
              "      <td>22.39</td>\n",
              "      <td>142.00</td>\n",
              "      <td>1479.0</td>\n",
              "      <td>0.11100</td>\n",
              "      <td>0.11590</td>\n",
              "      <td>0.24390</td>\n",
              "      <td>0.13890</td>\n",
              "      <td>0.1726</td>\n",
              "      <td>0.05623</td>\n",
              "      <td>1.1760</td>\n",
              "      <td>1.2560</td>\n",
              "      <td>7.673</td>\n",
              "      <td>158.70</td>\n",
              "      <td>0.010300</td>\n",
              "      <td>0.02891</td>\n",
              "      <td>0.05198</td>\n",
              "      <td>0.02454</td>\n",
              "      <td>0.01114</td>\n",
              "      <td>0.004239</td>\n",
              "      <td>25.450</td>\n",
              "      <td>26.40</td>\n",
              "      <td>166.10</td>\n",
              "      <td>2027.0</td>\n",
              "      <td>0.14100</td>\n",
              "      <td>0.21130</td>\n",
              "      <td>0.4107</td>\n",
              "      <td>0.2216</td>\n",
              "      <td>0.2060</td>\n",
              "      <td>0.07115</td>\n",
              "    </tr>\n",
              "    <tr>\n",
              "      <th>565</th>\n",
              "      <td>20.13</td>\n",
              "      <td>28.25</td>\n",
              "      <td>131.20</td>\n",
              "      <td>1261.0</td>\n",
              "      <td>0.09780</td>\n",
              "      <td>0.10340</td>\n",
              "      <td>0.14400</td>\n",
              "      <td>0.09791</td>\n",
              "      <td>0.1752</td>\n",
              "      <td>0.05533</td>\n",
              "      <td>0.7655</td>\n",
              "      <td>2.4630</td>\n",
              "      <td>5.203</td>\n",
              "      <td>99.04</td>\n",
              "      <td>0.005769</td>\n",
              "      <td>0.02423</td>\n",
              "      <td>0.03950</td>\n",
              "      <td>0.01678</td>\n",
              "      <td>0.01898</td>\n",
              "      <td>0.002498</td>\n",
              "      <td>23.690</td>\n",
              "      <td>38.25</td>\n",
              "      <td>155.00</td>\n",
              "      <td>1731.0</td>\n",
              "      <td>0.11660</td>\n",
              "      <td>0.19220</td>\n",
              "      <td>0.3215</td>\n",
              "      <td>0.1628</td>\n",
              "      <td>0.2572</td>\n",
              "      <td>0.06637</td>\n",
              "    </tr>\n",
              "    <tr>\n",
              "      <th>566</th>\n",
              "      <td>16.60</td>\n",
              "      <td>28.08</td>\n",
              "      <td>108.30</td>\n",
              "      <td>858.1</td>\n",
              "      <td>0.08455</td>\n",
              "      <td>0.10230</td>\n",
              "      <td>0.09251</td>\n",
              "      <td>0.05302</td>\n",
              "      <td>0.1590</td>\n",
              "      <td>0.05648</td>\n",
              "      <td>0.4564</td>\n",
              "      <td>1.0750</td>\n",
              "      <td>3.425</td>\n",
              "      <td>48.55</td>\n",
              "      <td>0.005903</td>\n",
              "      <td>0.03731</td>\n",
              "      <td>0.04730</td>\n",
              "      <td>0.01557</td>\n",
              "      <td>0.01318</td>\n",
              "      <td>0.003892</td>\n",
              "      <td>18.980</td>\n",
              "      <td>34.12</td>\n",
              "      <td>126.70</td>\n",
              "      <td>1124.0</td>\n",
              "      <td>0.11390</td>\n",
              "      <td>0.30940</td>\n",
              "      <td>0.3403</td>\n",
              "      <td>0.1418</td>\n",
              "      <td>0.2218</td>\n",
              "      <td>0.07820</td>\n",
              "    </tr>\n",
              "    <tr>\n",
              "      <th>567</th>\n",
              "      <td>20.60</td>\n",
              "      <td>29.33</td>\n",
              "      <td>140.10</td>\n",
              "      <td>1265.0</td>\n",
              "      <td>0.11780</td>\n",
              "      <td>0.27700</td>\n",
              "      <td>0.35140</td>\n",
              "      <td>0.15200</td>\n",
              "      <td>0.2397</td>\n",
              "      <td>0.07016</td>\n",
              "      <td>0.7260</td>\n",
              "      <td>1.5950</td>\n",
              "      <td>5.772</td>\n",
              "      <td>86.22</td>\n",
              "      <td>0.006522</td>\n",
              "      <td>0.06158</td>\n",
              "      <td>0.07117</td>\n",
              "      <td>0.01664</td>\n",
              "      <td>0.02324</td>\n",
              "      <td>0.006185</td>\n",
              "      <td>25.740</td>\n",
              "      <td>39.42</td>\n",
              "      <td>184.60</td>\n",
              "      <td>1821.0</td>\n",
              "      <td>0.16500</td>\n",
              "      <td>0.86810</td>\n",
              "      <td>0.9387</td>\n",
              "      <td>0.2650</td>\n",
              "      <td>0.4087</td>\n",
              "      <td>0.12400</td>\n",
              "    </tr>\n",
              "    <tr>\n",
              "      <th>568</th>\n",
              "      <td>7.76</td>\n",
              "      <td>24.54</td>\n",
              "      <td>47.92</td>\n",
              "      <td>181.0</td>\n",
              "      <td>0.05263</td>\n",
              "      <td>0.04362</td>\n",
              "      <td>0.00000</td>\n",
              "      <td>0.00000</td>\n",
              "      <td>0.1587</td>\n",
              "      <td>0.05884</td>\n",
              "      <td>0.3857</td>\n",
              "      <td>1.4280</td>\n",
              "      <td>2.548</td>\n",
              "      <td>19.15</td>\n",
              "      <td>0.007189</td>\n",
              "      <td>0.00466</td>\n",
              "      <td>0.00000</td>\n",
              "      <td>0.00000</td>\n",
              "      <td>0.02676</td>\n",
              "      <td>0.002783</td>\n",
              "      <td>9.456</td>\n",
              "      <td>30.37</td>\n",
              "      <td>59.16</td>\n",
              "      <td>268.6</td>\n",
              "      <td>0.08996</td>\n",
              "      <td>0.06444</td>\n",
              "      <td>0.0000</td>\n",
              "      <td>0.0000</td>\n",
              "      <td>0.2871</td>\n",
              "      <td>0.07039</td>\n",
              "    </tr>\n",
              "  </tbody>\n",
              "</table>\n",
              "<p>569 rows × 30 columns</p>\n",
              "</div>"
            ],
            "text/plain": [
              "     radius_mean  texture_mean  ...  symmetry_worst  fractal_dimension_worst\n",
              "0          17.99         10.38  ...          0.4601                  0.11890\n",
              "1          20.57         17.77  ...          0.2750                  0.08902\n",
              "2          19.69         21.25  ...          0.3613                  0.08758\n",
              "3          11.42         20.38  ...          0.6638                  0.17300\n",
              "4          20.29         14.34  ...          0.2364                  0.07678\n",
              "..           ...           ...  ...             ...                      ...\n",
              "564        21.56         22.39  ...          0.2060                  0.07115\n",
              "565        20.13         28.25  ...          0.2572                  0.06637\n",
              "566        16.60         28.08  ...          0.2218                  0.07820\n",
              "567        20.60         29.33  ...          0.4087                  0.12400\n",
              "568         7.76         24.54  ...          0.2871                  0.07039\n",
              "\n",
              "[569 rows x 30 columns]"
            ]
          },
          "metadata": {
            "tags": []
          },
          "execution_count": 18
        }
      ]
    },
    {
      "cell_type": "code",
      "metadata": {
        "id": "RH-xGIoD3FSC"
      },
      "source": [
        "y = df.iloc[:,0]"
      ],
      "execution_count": null,
      "outputs": []
    },
    {
      "cell_type": "code",
      "metadata": {
        "colab": {
          "base_uri": "https://localhost:8080/"
        },
        "id": "tbsw-9Ow3rnX",
        "outputId": "11961f09-7b10-4382-b6eb-b1ad8376b06b"
      },
      "source": [
        "y"
      ],
      "execution_count": null,
      "outputs": [
        {
          "output_type": "execute_result",
          "data": {
            "text/plain": [
              "0      M\n",
              "1      M\n",
              "2      M\n",
              "3      M\n",
              "4      M\n",
              "      ..\n",
              "564    M\n",
              "565    M\n",
              "566    M\n",
              "567    M\n",
              "568    B\n",
              "Name: diagnosis, Length: 569, dtype: object"
            ]
          },
          "metadata": {
            "tags": []
          },
          "execution_count": 17
        }
      ]
    },
    {
      "cell_type": "code",
      "metadata": {
        "id": "7hVHPSUGBCYZ"
      },
      "source": [
        "from sklearn.model_selection import train_test_split"
      ],
      "execution_count": null,
      "outputs": []
    },
    {
      "cell_type": "code",
      "metadata": {
        "id": "5pnkLiFUBC2C"
      },
      "source": [
        "X_train,X_test,y_train,y_test = train_test_split(X,y,test_size=0.3,random_state=42)"
      ],
      "execution_count": null,
      "outputs": []
    },
    {
      "cell_type": "code",
      "metadata": {
        "id": "F0Z17q2X3sZc"
      },
      "source": [
        "# step 1 ---standardization"
      ],
      "execution_count": null,
      "outputs": []
    },
    {
      "cell_type": "code",
      "metadata": {
        "id": "lfCOpJkm38Qw"
      },
      "source": [
        "from sklearn.preprocessing import StandardScaler"
      ],
      "execution_count": null,
      "outputs": []
    },
    {
      "cell_type": "code",
      "metadata": {
        "id": "EZkeY8sp4Bvm"
      },
      "source": [
        "sc = StandardScaler()"
      ],
      "execution_count": null,
      "outputs": []
    },
    {
      "cell_type": "code",
      "metadata": {
        "id": "3nuxYIbk4JnU"
      },
      "source": [
        "x_train = sc.fit_transform(X_train)"
      ],
      "execution_count": null,
      "outputs": []
    },
    {
      "cell_type": "code",
      "metadata": {
        "id": "imZyGI0e4Mx4"
      },
      "source": [
        "x_test = sc.transform(X_test)"
      ],
      "execution_count": null,
      "outputs": []
    },
    {
      "cell_type": "code",
      "metadata": {
        "id": "aTyFID244U1w"
      },
      "source": [
        "from sklearn.decomposition import PCA"
      ],
      "execution_count": null,
      "outputs": []
    },
    {
      "cell_type": "code",
      "metadata": {
        "id": "jYG3UGLt55vX"
      },
      "source": [
        "# no.of dimensions you want to convert\n",
        "pca = PCA(n_components=2)"
      ],
      "execution_count": null,
      "outputs": []
    },
    {
      "cell_type": "code",
      "metadata": {
        "id": "ghafHOul7IEG"
      },
      "source": [
        "# fit only fix the ranges and perform the calculations but not transform or changes the data\n",
        "# transform the data to ranges \n",
        "x_pca_train = pca.fit_transform(x_train)"
      ],
      "execution_count": null,
      "outputs": []
    },
    {
      "cell_type": "code",
      "metadata": {
        "id": "SvKzhtxYCVji"
      },
      "source": [
        "x_pca_test = pca.transform(x_test)"
      ],
      "execution_count": null,
      "outputs": []
    },
    {
      "cell_type": "code",
      "metadata": {
        "colab": {
          "base_uri": "https://localhost:8080/"
        },
        "id": "LMJcY1qE5_9X",
        "outputId": "1aac73e8-ab1e-4380-cd63-be64ad897bd6"
      },
      "source": [
        "x_train.shape"
      ],
      "execution_count": null,
      "outputs": [
        {
          "output_type": "execute_result",
          "data": {
            "text/plain": [
              "(398, 2)"
            ]
          },
          "metadata": {
            "tags": []
          },
          "execution_count": 59
        }
      ]
    },
    {
      "cell_type": "code",
      "metadata": {
        "colab": {
          "base_uri": "https://localhost:8080/"
        },
        "id": "I8BC5Cmm6ddI",
        "outputId": "a1f844ae-1d3e-4eba-a03e-282d65b7400b"
      },
      "source": [
        "x_train"
      ],
      "execution_count": null,
      "outputs": [
        {
          "output_type": "execute_result",
          "data": {
            "text/plain": [
              "array([[-8.44436154e-01, -8.95477954e-01],\n",
              "       [-6.07183070e-01, -2.79677856e-01],\n",
              "       [ 5.66184074e-01,  9.71310224e-01],\n",
              "       [-7.79793826e-01, -3.75810462e-01],\n",
              "       [-5.30235608e-01, -4.44528071e-01],\n",
              "       [-2.25772075e-01, -1.41294267e+00],\n",
              "       [-9.96066984e-02, -2.29997591e-01],\n",
              "       [-7.48816168e-01, -6.81747491e-02],\n",
              "       [-3.19177468e-01, -1.72780124e-01],\n",
              "       [-1.64073824e-01,  2.82738173e-01],\n",
              "       [-8.11192567e-01, -1.80985736e-01],\n",
              "       [-6.93303849e-01,  1.35471336e+00],\n",
              "       [ 3.86036772e-01, -5.00702276e-01],\n",
              "       [ 1.04976818e+00, -4.12120972e-01],\n",
              "       [ 6.09534327e-01,  9.81229059e-01],\n",
              "       [ 2.92719026e-01,  4.69686371e-01],\n",
              "       [-3.36881019e-01, -5.52818817e-02],\n",
              "       [ 7.98816686e-01,  5.40488160e-01],\n",
              "       [-3.68740430e-01,  1.73376864e-01],\n",
              "       [ 1.31099391e+00, -9.25218142e-01],\n",
              "       [-7.05382157e-01, -2.91277151e-01],\n",
              "       [-3.97990272e-01,  2.64534311e-01],\n",
              "       [-1.30499390e+00, -2.92743686e-01],\n",
              "       [-8.31467972e-01,  1.67058214e-01],\n",
              "       [ 1.43454369e-02, -1.39624109e+00],\n",
              "       [-4.29388994e-01, -4.73507927e-01],\n",
              "       [-1.12068214e+00,  4.98446157e-01],\n",
              "       [ 1.99688231e+00,  8.49379259e-01],\n",
              "       [-1.05026626e+00, -1.11825185e-01],\n",
              "       [-9.14406578e-01, -1.26480113e+00],\n",
              "       [-3.10498597e-01,  2.31730432e+00],\n",
              "       [ 2.55387403e+00,  8.49404986e-01],\n",
              "       [-7.22653760e-01, -4.30071427e-01],\n",
              "       [ 1.39821417e+00, -5.27902507e-01],\n",
              "       [ 1.39354221e+00, -1.14576136e+00],\n",
              "       [-8.46426130e-01, -5.15917985e-02],\n",
              "       [-9.33479500e-01, -2.08891298e-01],\n",
              "       [-2.61878480e-01,  4.09242948e-01],\n",
              "       [-1.69405033e-01, -3.51728854e-01],\n",
              "       [-7.40270435e-01,  9.71205595e-01],\n",
              "       [-9.71061959e-01,  7.60103882e-01],\n",
              "       [-3.42442727e-01,  1.70966506e+00],\n",
              "       [-1.29486053e+00, -6.95066671e-02],\n",
              "       [ 8.22017553e-01,  1.66379664e+00],\n",
              "       [-3.68206064e-01,  1.47970569e+00],\n",
              "       [-7.98896364e-01, -1.68636522e-01],\n",
              "       [-9.65962294e-01,  6.85847536e-01],\n",
              "       [-9.11188993e-01,  1.04399674e-01],\n",
              "       [-1.11788600e+00, -5.52942909e-01],\n",
              "       [ 6.18931499e-01,  4.20381672e-01],\n",
              "       [-4.03474812e-01, -6.30375137e-01],\n",
              "       [ 1.39523635e+00, -6.10967892e-01],\n",
              "       [ 1.24639595e+00,  6.03441163e-01],\n",
              "       [-6.30091913e-01,  2.57663459e-02],\n",
              "       [-7.70522817e-01,  9.69096829e-01],\n",
              "       [ 2.15859188e+00, -1.23880980e+00],\n",
              "       [-7.72596281e-01, -4.19992562e-01],\n",
              "       [-1.32593228e+00, -2.00706053e-01],\n",
              "       [-8.00868114e-01, -3.79021813e-01],\n",
              "       [-3.19792086e-01,  4.36473425e-01],\n",
              "       [-3.07347491e-01, -5.56548517e-01],\n",
              "       [-9.80641080e-01, -4.89258123e-01],\n",
              "       [-8.26394523e-01, -2.54152674e-01],\n",
              "       [ 1.59512573e-01,  1.77944080e-01],\n",
              "       [ 7.86637016e-01,  2.50620064e-01],\n",
              "       [ 2.67277087e+00, -2.27520552e+00],\n",
              "       [-6.60591141e-01,  4.27725596e-01],\n",
              "       [-7.87743166e-01, -1.16434103e+00],\n",
              "       [ 1.18774500e+00, -2.08043682e+00],\n",
              "       [-4.56936255e-01, -6.58368755e-02],\n",
              "       [-8.84750511e-01, -7.36162817e-01],\n",
              "       [ 5.23173922e-01, -1.74968114e+00],\n",
              "       [-9.68325207e-01, -1.05793544e+00],\n",
              "       [ 6.75873921e-01,  1.64109977e+00],\n",
              "       [-5.77660773e-01,  1.52515582e+00],\n",
              "       [ 1.51599171e+00, -3.34166278e-02],\n",
              "       [-6.55054879e-01, -2.78774901e-01],\n",
              "       [-5.24941495e-01, -1.25792910e+00],\n",
              "       [-9.21752336e-01,  2.16665344e-01],\n",
              "       [ 9.21454387e-02,  1.14903797e-01],\n",
              "       [ 7.38748109e-02, -6.19578818e-01],\n",
              "       [-5.88685082e-01,  6.11587266e-02],\n",
              "       [-1.06465656e+00,  2.25306157e-01],\n",
              "       [-7.64170519e-02,  9.17588193e-01],\n",
              "       [ 2.00371099e+00,  4.23422710e+00],\n",
              "       [-3.84954851e-01,  6.39146851e-01],\n",
              "       [ 9.38889538e-01, -6.24619050e-01],\n",
              "       [-2.21804735e-01, -4.90649172e-01],\n",
              "       [ 9.92249508e-01,  9.12105799e-01],\n",
              "       [-9.82458189e-01, -5.03868890e-01],\n",
              "       [ 7.80954214e-01,  1.44262620e+00],\n",
              "       [-1.04024713e+00, -5.57561539e-01],\n",
              "       [-2.00964467e-01, -1.23690046e+00],\n",
              "       [ 7.50717138e-01, -1.59786066e+00],\n",
              "       [-6.55034420e-01, -6.67467145e-01],\n",
              "       [-1.48885170e+00,  4.42781419e-01],\n",
              "       [-2.92193711e-01,  7.61245835e-01],\n",
              "       [-5.88673565e-01,  2.00737502e-02],\n",
              "       [ 7.40614608e-01,  6.61960350e-01],\n",
              "       [-5.47594058e-02,  6.43300679e-01],\n",
              "       [-9.75666785e-01, -2.47991399e-01],\n",
              "       [-1.82860552e-01,  7.16723087e-01],\n",
              "       [ 1.42884142e+00, -7.09926900e-01],\n",
              "       [-1.07518437e-01, -3.09591569e-01],\n",
              "       [-8.21748095e-01, -6.34849907e-03],\n",
              "       [ 5.07725212e-01,  1.16010262e+00],\n",
              "       [ 1.99541073e+00,  5.17610232e+00],\n",
              "       [-1.22796562e-01,  1.53980436e+00],\n",
              "       [ 2.02050384e+00,  4.44809986e-02],\n",
              "       [-8.89524108e-01, -8.94394973e-01],\n",
              "       [-9.40724119e-01,  3.30952880e-01],\n",
              "       [-5.82949799e-01,  7.80002721e-01],\n",
              "       [-5.54659704e-01,  3.40991510e-01],\n",
              "       [-7.26861311e-01, -2.63978934e-01],\n",
              "       [-9.44551734e-02,  6.84486697e-02],\n",
              "       [-1.17684763e+00,  9.74148094e-02],\n",
              "       [ 2.47727607e-01, -9.23743512e-01],\n",
              "       [-5.66951826e-01,  1.53233028e-01],\n",
              "       [-6.13135392e-01, -1.24539136e-01],\n",
              "       [-6.17923043e-01, -1.64478887e-01],\n",
              "       [-1.98214770e-01, -9.83307314e-01],\n",
              "       [-1.31964359e+00, -7.15358432e-01],\n",
              "       [ 1.18738003e+00,  5.04060982e-01],\n",
              "       [-2.08807169e-01, -8.48974159e-01],\n",
              "       [-5.62148749e-01, -3.48404217e-01],\n",
              "       [-8.49411358e-01,  4.87497316e-01],\n",
              "       [ 3.72367945e-01,  3.96228231e-01],\n",
              "       [-5.48253800e-01,  5.66827500e-01],\n",
              "       [ 3.77379556e-01, -7.05939642e-01],\n",
              "       [ 1.43589139e+00, -8.05875104e-01],\n",
              "       [-1.14849917e+00,  1.00727998e+00],\n",
              "       [-1.94702327e-02,  9.56591604e-01],\n",
              "       [ 6.39550924e-01, -1.21003517e-01],\n",
              "       [-1.27616727e+00, -1.11001586e+00],\n",
              "       [ 9.29006058e-01, -3.84239862e-01],\n",
              "       [ 2.84324001e-01, -8.84264280e-01],\n",
              "       [-6.58521232e-01, -3.15961592e-01],\n",
              "       [-3.94415896e-01,  1.47262407e-01],\n",
              "       [-4.00606751e-01,  7.13288707e-01],\n",
              "       [ 1.90182863e-01,  1.42632618e+00],\n",
              "       [-2.69968649e-01, -1.35194716e+00],\n",
              "       [-5.30779749e-01,  3.87730389e-01],\n",
              "       [-1.49966944e+00,  2.49904710e-01],\n",
              "       [ 9.81872178e-01, -9.11901862e-01],\n",
              "       [ 4.49845972e-01,  2.69020049e+00],\n",
              "       [ 6.81403613e-01,  2.00514911e+00],\n",
              "       [-6.85167069e-01, -9.47201545e-01],\n",
              "       [ 1.19522886e-01,  4.65865100e-01],\n",
              "       [-8.49146611e-01, -8.72649000e-01],\n",
              "       [ 3.07079064e+00, -1.49622934e+00],\n",
              "       [-2.06323369e-01, -4.40624948e-03],\n",
              "       [ 2.42585739e+00, -1.39628562e+00],\n",
              "       [-7.16252007e-01,  1.09451169e-01],\n",
              "       [-5.04926880e-01, -1.54407686e-02],\n",
              "       [ 9.47462868e-01, -8.61365184e-01],\n",
              "       [ 1.34063649e+00, -5.88696494e-01],\n",
              "       [-1.08365012e+00,  5.09727861e-01],\n",
              "       [-8.71236789e-01, -2.82515164e-01],\n",
              "       [ 1.13732467e+00, -1.18392888e+00],\n",
              "       [-7.94226470e-01, -8.82529980e-02],\n",
              "       [ 1.28310068e+00, -3.12634920e-01],\n",
              "       [ 3.61962870e+00,  9.71545697e-01],\n",
              "       [-7.35087797e-01,  2.43214647e-01],\n",
              "       [ 2.53948048e+00, -2.46705574e-01],\n",
              "       [ 2.03549709e+00,  7.23902865e-03],\n",
              "       [-8.94508255e-01, -4.58602697e-01],\n",
              "       [-1.74425694e-02, -3.13548922e-02],\n",
              "       [ 7.75198993e-01, -1.59539910e+00],\n",
              "       [ 1.25320826e+00, -3.84963690e-01],\n",
              "       [ 1.49532948e+00, -2.73430751e+00],\n",
              "       [ 6.58275688e-01,  1.82114668e+00],\n",
              "       [-5.30548397e-01,  6.20986279e-01],\n",
              "       [-8.70610221e-01, -7.47746411e-01],\n",
              "       [-6.90369351e-01, -8.05599541e-01],\n",
              "       [ 5.14328561e-01,  9.01131852e-02],\n",
              "       [-5.72092009e-01,  7.62435196e-01],\n",
              "       [ 9.34095528e-01, -4.41739627e-01],\n",
              "       [ 1.21281759e+00, -1.89100811e+00],\n",
              "       [ 1.30958072e+00, -5.85660336e-01],\n",
              "       [-1.95972366e-01, -7.74920432e-01],\n",
              "       [-8.33872722e-01,  1.21800978e-01],\n",
              "       [-6.82993903e-01, -1.15473903e-01],\n",
              "       [ 3.93125571e-01,  8.86847987e-01],\n",
              "       [ 1.09666437e-01,  8.94156065e-01],\n",
              "       [-7.22757100e-01, -7.29156307e-01],\n",
              "       [-6.86528039e-01, -4.65516677e-01],\n",
              "       [-9.32885933e-01, -3.09191488e-01],\n",
              "       [-6.11264198e-01,  3.41281136e-02],\n",
              "       [ 7.12692244e-01, -1.01477931e+00],\n",
              "       [ 9.94765267e-01, -1.55991443e+00],\n",
              "       [ 1.01493627e+00,  1.63142698e+00],\n",
              "       [-1.12835856e+00, -4.88976095e-01],\n",
              "       [ 9.82515113e-01, -6.63904028e-01],\n",
              "       [-7.24722854e-01,  1.04758062e+00],\n",
              "       [-6.47407388e-01,  3.01756029e-01],\n",
              "       [-1.04475505e+00,  1.82486325e+00],\n",
              "       [ 3.27552517e-02,  2.95307742e+00],\n",
              "       [-1.08258305e+00,  3.21447249e-01],\n",
              "       [ 9.37951663e-01, -1.59293293e+00],\n",
              "       [-1.06942786e+00, -6.03168475e-01],\n",
              "       [-1.02182976e-01,  9.07837353e-01],\n",
              "       [ 1.54768830e+00, -1.68585642e+00],\n",
              "       [ 5.40105611e-01, -9.58794276e-01],\n",
              "       [-7.18689655e-01, -1.75853003e-01],\n",
              "       [ 3.67000388e-01, -9.79709698e-01],\n",
              "       [-5.85531213e-01, -4.67917891e-01],\n",
              "       [ 2.45472434e+00,  1.36642031e+00],\n",
              "       [-1.01983696e+00, -5.07613051e-01],\n",
              "       [-5.63370984e-01,  1.46858381e-01],\n",
              "       [-8.20939083e-01,  1.74169101e-01],\n",
              "       [-1.09460699e+00, -8.10305896e-01],\n",
              "       [ 5.81973192e-01,  2.65647103e+00],\n",
              "       [-6.84412371e-01, -5.59653584e-01],\n",
              "       [ 8.78371841e-01, -4.84871403e-01],\n",
              "       [-1.10936582e+00,  4.15355853e-01],\n",
              "       [-3.28351435e-01, -5.18031734e-01],\n",
              "       [ 5.46773806e-01, -1.42851921e+00],\n",
              "       [-2.95532368e-01,  5.51861788e-01],\n",
              "       [-1.14931659e+00, -5.42408237e-01],\n",
              "       [-9.01100439e-01,  5.49023896e-01],\n",
              "       [ 3.10911991e-01,  3.42221667e+00],\n",
              "       [-8.74976087e-01, -4.02718313e-01],\n",
              "       [-3.62512974e-01,  3.40435442e-01],\n",
              "       [ 1.77041386e+00,  8.56732338e-01],\n",
              "       [-1.89068859e-01, -6.21003188e-01],\n",
              "       [-4.26516571e-01, -4.03611027e-01],\n",
              "       [-7.27203105e-02, -3.43275564e-02],\n",
              "       [-5.44240844e-01, -7.33550426e-01],\n",
              "       [ 5.16864677e-01,  3.18153081e-01],\n",
              "       [ 7.47829800e-01,  2.58472203e-01],\n",
              "       [ 9.30087534e-01, -6.61998912e-01],\n",
              "       [ 3.79765617e-01,  1.98526211e+00],\n",
              "       [ 1.11621300e-01, -1.44343228e+00],\n",
              "       [-3.82302130e-01, -7.04628011e-01],\n",
              "       [-1.30087495e+00, -4.30638282e-01],\n",
              "       [ 2.30106673e+00,  1.12910694e+00],\n",
              "       [ 7.83978263e-01, -1.23389355e-01],\n",
              "       [ 1.13139730e+00,  2.42110425e-01],\n",
              "       [-6.94636176e-01,  6.87108827e-02],\n",
              "       [-6.78143544e-01,  3.90185344e-01],\n",
              "       [-4.73857892e-01,  4.31065386e-01],\n",
              "       [-9.26194289e-01,  1.27637870e-02],\n",
              "       [-3.40295236e-01, -6.29450558e-01],\n",
              "       [-2.61323430e-01,  2.01606935e-01],\n",
              "       [-6.43903194e-01,  3.45785518e-01],\n",
              "       [ 1.24029727e+00, -8.48631568e-01],\n",
              "       [-8.74642361e-01, -6.70493453e-01],\n",
              "       [-6.14239828e-01, -4.76199772e-01],\n",
              "       [-1.81590854e-02, -6.56717098e-02],\n",
              "       [ 1.74034747e+00,  2.11583914e+00],\n",
              "       [-1.06518873e+00,  3.90481877e-01],\n",
              "       [-1.38360477e+00, -1.36625888e+00],\n",
              "       [ 1.08020924e+00,  9.66878084e-01],\n",
              "       [-1.66651565e-02,  9.48642284e-01],\n",
              "       [-9.29269039e-01,  1.11776155e+00],\n",
              "       [ 1.15572104e+00,  1.17090042e+00],\n",
              "       [-9.57817579e-01,  5.57638150e-01],\n",
              "       [ 1.17110699e+00,  3.36497247e-01],\n",
              "       [ 1.06918582e+00, -7.57789226e-01],\n",
              "       [-8.28563937e-01,  6.90643903e-01],\n",
              "       [-5.25705727e-01, -2.45156438e-01],\n",
              "       [ 1.04863272e+00, -1.12901649e+00],\n",
              "       [-3.40435902e-01,  6.76005696e-01],\n",
              "       [ 1.11124975e+00, -7.76713658e-01],\n",
              "       [ 1.79924465e+00, -7.25480692e-01],\n",
              "       [-5.88658750e-01,  6.44398173e-01],\n",
              "       [ 1.39529973e+00,  1.25417391e+00],\n",
              "       [-1.11724595e-01, -5.48777052e-01],\n",
              "       [-1.08095094e+00,  2.42655059e-01],\n",
              "       [-4.64934208e-02,  4.63115213e-01],\n",
              "       [ 9.53594535e-01,  1.08272204e+00],\n",
              "       [-8.84749471e-01,  2.59367691e-01],\n",
              "       [-2.55807254e-01, -6.68769641e-01],\n",
              "       [-7.79567803e-01,  1.72684101e-01],\n",
              "       [-3.88161098e-01,  5.93318885e-01],\n",
              "       [ 3.78490908e-01,  9.05077163e-01],\n",
              "       [-7.12556462e-01,  1.30853486e+00],\n",
              "       [-3.10544810e-01, -7.82493752e-01],\n",
              "       [ 4.85423949e-01,  9.86159704e-01],\n",
              "       [ 1.28468856e+00,  1.60243381e-01],\n",
              "       [ 1.69032521e+00, -1.54417742e-02],\n",
              "       [-5.53886245e-01, -4.30486324e-01],\n",
              "       [-1.28636328e+00, -7.30614837e-01],\n",
              "       [-4.03058050e-01,  6.97922819e-02],\n",
              "       [ 6.17406516e-01, -1.13671660e+00],\n",
              "       [ 8.67322416e-01, -7.47395226e-01],\n",
              "       [-6.07237571e-01,  5.49070692e-01],\n",
              "       [ 9.21413722e-01, -2.94498706e-02],\n",
              "       [ 9.55289581e-01, -1.36011925e+00],\n",
              "       [-4.39498161e-01,  1.41820800e-01],\n",
              "       [ 1.22381638e-01,  1.54825094e+00],\n",
              "       [-8.08586212e-01,  1.80979174e-02],\n",
              "       [ 1.73127698e+00, -8.05237615e-01],\n",
              "       [-9.96956332e-01,  1.08979831e+00],\n",
              "       [ 7.64619309e-01, -7.74925663e-01],\n",
              "       [ 1.06833647e+00,  3.74577500e-01],\n",
              "       [ 1.34189562e+00,  1.25647627e+00],\n",
              "       [-5.43999763e-01, -1.50048230e-01],\n",
              "       [ 4.03912567e-01,  5.56814455e-01],\n",
              "       [-8.01326584e-01, -5.73205850e-01],\n",
              "       [ 8.98363309e-01,  1.41230694e+00],\n",
              "       [-8.72357750e-01, -7.04227154e-01],\n",
              "       [-6.00016101e-01,  4.14968531e-01],\n",
              "       [ 4.83072452e-01,  6.53456128e-01],\n",
              "       [ 1.85456371e+00, -5.86826723e-01],\n",
              "       [ 1.22522099e+00,  2.01461642e+00],\n",
              "       [ 1.15758152e+00, -1.33411464e-01],\n",
              "       [-5.92747007e-01, -7.66842375e-01],\n",
              "       [ 1.06383048e+00,  2.47547344e+00],\n",
              "       [-7.84512072e-01, -1.41579835e-01],\n",
              "       [-1.12842714e+00, -2.08081803e-01],\n",
              "       [-9.93766179e-02,  9.55220099e-01],\n",
              "       [-5.41895264e-01, -5.02124080e-02],\n",
              "       [-5.13120947e-01, -3.47915687e-01],\n",
              "       [-9.56583775e-01, -1.82364147e-01],\n",
              "       [-1.23066987e+00, -3.00351352e-01],\n",
              "       [ 1.31979278e+00, -3.75188337e-01],\n",
              "       [ 2.36232871e+00, -1.68096811e+00],\n",
              "       [ 1.34486332e-01, -1.12091228e+00],\n",
              "       [ 3.44895834e+00, -3.07045455e+00],\n",
              "       [-9.18650472e-01, -5.69328029e-01],\n",
              "       [ 1.05531079e-01,  1.47079198e+00],\n",
              "       [-8.39552334e-01, -2.44367275e-01],\n",
              "       [-1.25418359e-01, -5.11024591e-02],\n",
              "       [ 4.57843550e+00, -3.16574157e+00],\n",
              "       [-5.10471561e-01, -6.22298918e-01],\n",
              "       [ 3.61163506e-01, -7.57948815e-01],\n",
              "       [-9.92517632e-01,  3.87368127e-01],\n",
              "       [-1.12214577e+00, -5.34377232e-01],\n",
              "       [-1.97643992e-01,  1.31421195e+00],\n",
              "       [-6.16321822e-01, -5.10513539e-01],\n",
              "       [-3.42533205e-01,  4.59561670e-01],\n",
              "       [ 4.71272301e-01, -8.39934063e-01],\n",
              "       [ 9.57831720e-01, -1.17146965e+00],\n",
              "       [ 2.86767121e-01,  4.25634607e-01],\n",
              "       [-7.62405860e-01,  4.67409181e-01],\n",
              "       [-9.51063278e-01, -3.85033843e-01],\n",
              "       [ 1.83577200e+00,  3.30595591e+00],\n",
              "       [-1.36305771e-01, -3.77145729e-01],\n",
              "       [-1.11814418e+00, -1.02055921e+00],\n",
              "       [ 1.04294038e+00,  4.58723165e-01],\n",
              "       [ 9.09280210e-01,  1.68079295e+00],\n",
              "       [ 1.32632584e+00, -5.84551330e-02],\n",
              "       [ 6.77989031e-01, -1.52284155e+00],\n",
              "       [-6.79666001e-01,  2.68184848e-01],\n",
              "       [-4.49240854e-01,  7.25306975e-01],\n",
              "       [-5.29949972e-02, -2.65828624e-01],\n",
              "       [ 8.45284750e-01,  3.32780911e-01],\n",
              "       [-3.17134932e-01, -6.60956309e-01],\n",
              "       [-6.38464991e-01,  1.86682450e-01],\n",
              "       [-7.84627009e-01, -3.95493724e-01],\n",
              "       [ 1.75287416e+00, -5.47983985e-01],\n",
              "       [ 8.01581550e-02, -1.95946549e-01],\n",
              "       [ 2.06817944e+00, -2.12727493e+00],\n",
              "       [-6.71307306e-01,  1.43501377e+00],\n",
              "       [-1.24414456e+00, -6.91880223e-01],\n",
              "       [ 1.05251813e-01, -3.75059741e-01],\n",
              "       [-1.35435788e+00, -9.37058054e-01],\n",
              "       [-9.49312699e-01, -9.80635931e-01],\n",
              "       [-1.00940026e+00,  6.73506393e-01],\n",
              "       [-1.21870833e+00,  2.46917531e-02],\n",
              "       [ 2.45681759e+00, -2.13370185e-01],\n",
              "       [-6.26458168e-03, -7.13385069e-02],\n",
              "       [-5.93572987e-01, -3.18402053e-01],\n",
              "       [ 3.73114857e-01,  3.19063351e+00],\n",
              "       [-5.08512848e-01, -6.27519488e-01],\n",
              "       [-9.30494586e-01, -4.30587112e-01],\n",
              "       [-5.49975823e-01, -6.27247880e-02],\n",
              "       [-5.19025720e-01,  7.07369172e-01],\n",
              "       [-1.03244861e+00, -7.10947367e-01],\n",
              "       [-5.47832360e-01,  8.00536072e-01],\n",
              "       [ 1.99308804e+00,  2.38413196e-01],\n",
              "       [-9.86498450e-01,  7.03580594e-01],\n",
              "       [-1.12107684e+00, -7.67966903e-02],\n",
              "       [-1.13481245e+00, -1.76826446e-01],\n",
              "       [-1.57898433e-01,  7.53880365e-01],\n",
              "       [-1.20730814e+00, -1.10116436e-01],\n",
              "       [-4.71456902e-01, -2.00789544e-01],\n",
              "       [-1.42533316e-01, -5.18041396e-01],\n",
              "       [ 5.28999693e-02, -1.57681593e-01],\n",
              "       [-4.53758778e-01, -1.84566445e+00],\n",
              "       [ 1.40238418e+00, -5.24397183e-01],\n",
              "       [-1.29456733e+00, -1.23474368e+00],\n",
              "       [-5.16177852e-01,  6.05310605e-01],\n",
              "       [ 1.82008227e-01,  2.83788598e-01],\n",
              "       [ 1.02717699e+00, -7.80144570e-01],\n",
              "       [ 1.01277193e+00, -8.82719588e-01],\n",
              "       [-8.79333264e-01, -8.29047160e-01],\n",
              "       [ 5.09485829e-01, -8.84895842e-02],\n",
              "       [ 7.11856018e-01,  1.09371783e+00],\n",
              "       [-1.07470177e-01,  6.96403757e-02],\n",
              "       [ 9.42937754e-01, -5.21521542e-01],\n",
              "       [-4.32379749e-01,  2.56690283e-01],\n",
              "       [-7.67265296e-02,  3.05041814e+00],\n",
              "       [-2.00311665e-01,  7.58794551e-01],\n",
              "       [-1.25225763e+00, -1.27733014e+00],\n",
              "       [ 1.95491815e-01,  2.00960329e-01],\n",
              "       [-9.55938433e-01, -5.62132073e-01]])"
            ]
          },
          "metadata": {
            "tags": []
          },
          "execution_count": 60
        }
      ]
    },
    {
      "cell_type": "code",
      "metadata": {
        "colab": {
          "base_uri": "https://localhost:8080/",
          "height": 336
        },
        "id": "LY5NPZtB8bBt",
        "outputId": "ba189bd3-5d22-43bf-ecdc-add25686da41"
      },
      "source": [
        "sns.scatterplot(x_pca_train[:,0],x_pca_train[:,1],hue=y_train)   # 2d plot"
      ],
      "execution_count": null,
      "outputs": [
        {
          "output_type": "stream",
          "text": [
            "/usr/local/lib/python3.6/dist-packages/seaborn/_decorators.py:43: FutureWarning: Pass the following variables as keyword args: x, y. From version 0.12, the only valid positional argument will be `data`, and passing other arguments without an explicit keyword will result in an error or misinterpretation.\n",
            "  FutureWarning\n"
          ],
          "name": "stderr"
        },
        {
          "output_type": "execute_result",
          "data": {
            "text/plain": [
              "<matplotlib.axes._subplots.AxesSubplot at 0x7fad095819e8>"
            ]
          },
          "metadata": {
            "tags": []
          },
          "execution_count": 63
        },
        {
          "output_type": "display_data",
          "data": {
            "image/png": "[encoded data removed]",
            "text/plain": [
              "<Figure size 432x288 with 1 Axes>"
            ]
          },
          "metadata": {
            "tags": [],
            "needs_background": "light"
          }
        }
      ]
    },
    {
      "cell_type": "code",
      "metadata": {
        "id": "uhMLYUNC95Me"
      },
      "source": [
        "from sklearn.tree import DecisionTreeClassifier"
      ],
      "execution_count": null,
      "outputs": []
    },
    {
      "cell_type": "code",
      "metadata": {
        "id": "7S0QAFyEDQEw"
      },
      "source": [
        "dt = DecisionTreeClassifier(criterion='entropy')"
      ],
      "execution_count": null,
      "outputs": []
    },
    {
      "cell_type": "code",
      "metadata": {
        "colab": {
          "base_uri": "https://localhost:8080/"
        },
        "id": "9zJNyGZVELNX",
        "outputId": "d8355fcc-3180-4074-8d90-adae21f320a7"
      },
      "source": [
        "dt.fit(x_pca_train,y_train)"
      ],
      "execution_count": null,
      "outputs": [
        {
          "output_type": "execute_result",
          "data": {
            "text/plain": [
              "DecisionTreeClassifier(ccp_alpha=0.0, class_weight=None, criterion='entropy',\n",
              "                       max_depth=None, max_features=None, max_leaf_nodes=None,\n",
              "                       min_impurity_decrease=0.0, min_impurity_split=None,\n",
              "                       min_samples_leaf=1, min_samples_split=2,\n",
              "                       min_weight_fraction_leaf=0.0, presort='deprecated',\n",
              "                       random_state=None, splitter='best')"
            ]
          },
          "metadata": {
            "tags": []
          },
          "execution_count": 67
        }
      ]
    },
    {
      "cell_type": "code",
      "metadata": {
        "id": "ran_7jIOEUU7"
      },
      "source": [
        "y_pred = dt.predict(x_pca_test)"
      ],
      "execution_count": null,
      "outputs": []
    },
    {
      "cell_type": "code",
      "metadata": {
        "id": "leI82ud-E6h2"
      },
      "source": [
        "y_pred_train = dt.predict(x_pca_train)"
      ],
      "execution_count": null,
      "outputs": []
    },
    {
      "cell_type": "code",
      "metadata": {
        "id": "4obcI2BuEfpB"
      },
      "source": [
        "from sklearn.metrics import accuracy_score"
      ],
      "execution_count": null,
      "outputs": []
    },
    {
      "cell_type": "code",
      "metadata": {
        "colab": {
          "base_uri": "https://localhost:8080/"
        },
        "id": "ypybRlxVEsc6",
        "outputId": "c1201964-c8ce-4a10-8578-68c40e8d2c9c"
      },
      "source": [
        "accuracy_score(y_test,y_pred)"
      ],
      "execution_count": null,
      "outputs": [
        {
          "output_type": "execute_result",
          "data": {
            "text/plain": [
              "0.9298245614035088"
            ]
          },
          "metadata": {
            "tags": []
          },
          "execution_count": 70
        }
      ]
    },
    {
      "cell_type": "code",
      "metadata": {
        "colab": {
          "base_uri": "https://localhost:8080/"
        },
        "id": "shxp2oXvE3wP",
        "outputId": "ef12c4fc-e97c-4466-9faf-9f5e1486a506"
      },
      "source": [
        "accuracy_score(y_train,y_pred_train)"
      ],
      "execution_count": null,
      "outputs": [
        {
          "output_type": "execute_result",
          "data": {
            "text/plain": [
              "1.0"
            ]
          },
          "metadata": {
            "tags": []
          },
          "execution_count": 72
        }
      ]
    }
  ]
}